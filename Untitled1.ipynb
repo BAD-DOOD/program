{
 "cells": [
  {
   "cell_type": "code",
   "execution_count": 2,
   "metadata": {},
   "outputs": [
    {
     "name": "stdout",
     "output_type": "stream",
     "text": [
      "         FIN_YEAR MONTH          STATE            FG     DISTRICT  \\\n",
      "0       2014-2015   Nov        Haryana  Insecticides       Rohtak   \n",
      "1       2014-2015   Nov        Haryana  Insecticides       Rewari   \n",
      "2       2014-2015   Nov        Haryana  Insecticides      Gurgaon   \n",
      "3       2014-2015   Nov        Haryana  Insecticides        Mewat   \n",
      "4       2014-2015   Nov        Haryana  Insecticides       Palwal   \n",
      "...           ...   ...            ...           ...          ...   \n",
      "230147  2016-2017   Dec  Uttar Pradesh  Bactericides         Etah   \n",
      "230148  2016-2017   Dec  Uttar Pradesh  Bactericides  Bulandshahr   \n",
      "230149  2016-2017   Dec  Uttar Pradesh  Bactericides      Lucknow   \n",
      "230150  2016-2017   Dec  Uttar Pradesh  Bactericides        Basti   \n",
      "230151  2016-2017   Jan  Uttar Pradesh  Bactericides        Basti   \n",
      "\n",
      "                  COMPANY    VALUE  \n",
      "0                 monous    675.00  \n",
      "1                 monous     73.71  \n",
      "2                 monous    405.00  \n",
      "3                 monous   1188.00  \n",
      "4                 monous   5188.59  \n",
      "...                   ...      ...  \n",
      "230147  ABC Manufacturing     0.00  \n",
      "230148         disescent      6.75  \n",
      "230149         disescent      0.00  \n",
      "230150         disescent    486.00  \n",
      "230151           venible      0.00  \n",
      "\n",
      "[230152 rows x 7 columns]\n"
     ]
    }
   ],
   "source": [
    "import pandas as pd\n",
    "df = pd.read_excel(\"C:/Users/litle/OneDrive/Desktop/SalesForecast/Sales Forecast/Sales_Forecast_Data.xlsx\")\n",
    "print(df)"
   ]
  },
  {
   "cell_type": "code",
   "execution_count": 3,
   "metadata": {},
   "outputs": [],
   "source": [
    "df.to_csv (\"C:/Users/litle/OneDrive/Desktop/SalesForecast/Sales Forecast/Test.csv\",  \n",
    "                  index = None, \n",
    "                  header=True)"
   ]
  },
  {
   "cell_type": "code",
   "execution_count": 2,
   "metadata": {},
   "outputs": [
    {
     "name": "stderr",
     "output_type": "stream",
     "text": [
      "ERROR: Could not find a version that satisfies the requirement csv (from versions: none)\n",
      "ERROR: No matching distribution found for csv\n"
     ]
    }
   ],
   "source": []
  },
  {
   "cell_type": "code",
   "execution_count": null,
   "metadata": {},
   "outputs": [],
   "source": []
  }
 ],
 "metadata": {
  "kernelspec": {
   "display_name": "Python 3",
   "language": "python",
   "name": "python3"
  },
  "language_info": {
   "codemirror_mode": {
    "name": "ipython",
    "version": 3
   },
   "file_extension": ".py",
   "mimetype": "text/x-python",
   "name": "python",
   "nbconvert_exporter": "python",
   "pygments_lexer": "ipython3",
   "version": "3.8.3"
  }
 },
 "nbformat": 4,
 "nbformat_minor": 4
}
